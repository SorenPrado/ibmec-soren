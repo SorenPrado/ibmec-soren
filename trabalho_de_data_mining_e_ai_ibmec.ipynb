{
  "nbformat": 4,
  "nbformat_minor": 0,
  "metadata": {
    "colab": {
      "provenance": [],
      "authorship_tag": "ABX9TyNmowMaXl9AEOZSKUuYGvHs",
      "include_colab_link": true
    },
    "kernelspec": {
      "name": "python3",
      "display_name": "Python 3"
    },
    "language_info": {
      "name": "python"
    }
  },
  "cells": [
    {
      "cell_type": "markdown",
      "metadata": {
        "id": "view-in-github",
        "colab_type": "text"
      },
      "source": [
        "<a href=\"https://colab.research.google.com/github/SorenPrado/ibmec-soren/blob/main/trabalho_de_data_mining_e_ai_ibmec.ipynb\" target=\"_parent\"><img src=\"https://colab.research.google.com/assets/colab-badge.svg\" alt=\"Open In Colab\"/></a>"
      ]
    },
    {
      "cell_type": "code",
      "execution_count": null,
      "metadata": {
        "id": "2w2wja4Ny1C5"
      },
      "outputs": [],
      "source": [
        "import pandas as pd\n",
        "import numpy as np\n",
        "from scipy import stats\n"
      ]
    },
    {
      "cell_type": "markdown",
      "source": [
        "# Importar o arquivo e carregar os dados em um DataFrame\n"
      ],
      "metadata": {
        "id": "gjHWAtYQzMK7"
      }
    },
    {
      "cell_type": "code",
      "source": [
        "url = 'https://raw.githubusercontent.com/SorenPrado/ibmec-soren/main/diabete_trabalho_30.csv'\n",
        "df = pd.read_csv(url)\n",
        "print(df)"
      ],
      "metadata": {
        "colab": {
          "base_uri": "https://localhost:8080/"
        },
        "id": "pFqfzLg7zTu6",
        "outputId": "ed263bef-2b51-45bd-dd50-4cd5bb9ff6c3"
      },
      "execution_count": 13,
      "outputs": [
        {
          "output_type": "stream",
          "name": "stdout",
          "text": [
            "      Id Numero_gestacoes  Glicose_mg/dl  Pressao_arterial_mmHg  IMC_kg/m²  \\\n",
            "0      1               17            163                      0       40.9   \n",
            "1      2               15            136                     70       37.1   \n",
            "2      3               14            100                     78       36.6   \n",
            "3      4               14            175                     62       33.6   \n",
            "4      5               13            126                     90       43.4   \n",
            "..   ...              ...            ...                    ...        ...   \n",
            "545  546                1            143                     84       42.4   \n",
            "546  547                1            143                     74       26.2   \n",
            "547  548                1             97                     68       27.2   \n",
            "548  549                1             83                     68       18.2   \n",
            "549  550                1            119                     88       45.3   \n",
            "\n",
            "    Idade_anos_01/01/2023  Diabete_0_1  \n",
            "0                      47            1  \n",
            "1                      43            1  \n",
            "2                      46            1  \n",
            "3                      38            1  \n",
            "4                      42            1  \n",
            "..                    ...          ...  \n",
            "545                    22            0  \n",
            "546                    21            0  \n",
            "547                    22            0  \n",
            "548                    27            0  \n",
            "549                    26            0  \n",
            "\n",
            "[550 rows x 7 columns]\n"
          ]
        }
      ]
    },
    {
      "cell_type": "markdown",
      "source": [
        "Podemos utilizar o método describe() do pandas para obter as estatísticas descritivas para todas as variáveis numéricas do conjunto de dados:\n",
        "\n",
        "descritivas = dados.describe()\n",
        "\n",
        "Para obter as estatísticas descritivas apenas de algumas variáveis específicas, basta selecioná-las previamente:\n",
        "descritivas = dados[['Idade', 'IMC', 'Glicemia', 'PressaoSanguinea']].describe()\n",
        "\n",
        "# Selecionar apenas as variáveis quantitativas\n",
        "quant_vars = ['Idade', 'IMC', 'Pressao_arterial_sistolica', 'Pressao_arterial_diastolica', 'HbA1C']\n",
        "df_quant = df[quant_vars]\n",
        "\n",
        "# Exibir estatísticas descritivas para as variáveis quantitativas\n",
        "print(\"Estatísticas descritivas para as variáveis quantitativas:\\n\")\n",
        "print(df_quant.describe())\n",
        "\n",
        "# Calcular e exibir os coeficientes de correlação para as variáveis quantitativas\n",
        "print(\"\\n\\nCoeficientes de correlação para as variáveis quantitativas:\\n\")\n",
        "corr = df_quant.corr()\n",
        "print(corr)"
      ],
      "metadata": {
        "id": "_KGit4_13jmV"
      }
    },
    {
      "cell_type": "code",
      "source": [
        "descritivas = df.describe()\n",
        "print(descritivas)"
      ],
      "metadata": {
        "colab": {
          "base_uri": "https://localhost:8080/"
        },
        "id": "j30WpRRz366X",
        "outputId": "1239fbfe-8ee9-460b-adaa-9a773d272c77"
      },
      "execution_count": 14,
      "outputs": [
        {
          "output_type": "stream",
          "name": "stdout",
          "text": [
            "               Id  Glicose_mg/dl  Pressao_arterial_mmHg   IMC_kg/m²  \\\n",
            "count  550.000000     550.000000             550.000000  550.000000   \n",
            "mean   275.500000     124.398182              68.743636   32.267818   \n",
            "std    158.915596      34.110444              20.093264    7.867033   \n",
            "min      1.000000       0.000000               0.000000    0.000000   \n",
            "25%    138.250000     100.250000              62.000000   27.700000   \n",
            "50%    275.500000     122.000000              72.000000   32.350000   \n",
            "75%    412.750000     146.000000              80.000000   36.600000   \n",
            "max    550.000000     199.000000             122.000000   67.100000   \n",
            "\n",
            "       Diabete_0_1  \n",
            "count   550.000000  \n",
            "mean      0.487273  \n",
            "std       0.500293  \n",
            "min       0.000000  \n",
            "25%       0.000000  \n",
            "50%       0.000000  \n",
            "75%       1.000000  \n",
            "max       1.000000  \n"
          ]
        }
      ]
    },
    {
      "cell_type": "code",
      "source": [
        "descritivas = df[['Idade_anos_01/01/2023', 'IMC_kg/m²', 'Glicose_mg/dl', 'Pressao_arterial_mmHg']].describe()"
      ],
      "metadata": {
        "id": "Ko7Rvjp44QUB"
      },
      "execution_count": 19,
      "outputs": []
    },
    {
      "cell_type": "code",
      "source": [
        "print(descritivas)"
      ],
      "metadata": {
        "colab": {
          "base_uri": "https://localhost:8080/"
        },
        "id": "vqcndlOV4lYX",
        "outputId": "55b24007-140a-42af-e339-267c7235f179"
      },
      "execution_count": 20,
      "outputs": [
        {
          "output_type": "stream",
          "name": "stdout",
          "text": [
            "        IMC_kg/m²  Glicose_mg/dl  Pressao_arterial_mmHg\n",
            "count  550.000000     550.000000             550.000000\n",
            "mean    32.267818     124.398182              68.743636\n",
            "std      7.867033      34.110444              20.093264\n",
            "min      0.000000       0.000000               0.000000\n",
            "25%     27.700000     100.250000              62.000000\n",
            "50%     32.350000     122.000000              72.000000\n",
            "75%     36.600000     146.000000              80.000000\n",
            "max     67.100000     199.000000             122.000000\n"
          ]
        }
      ]
    },
    {
      "cell_type": "code",
      "source": [
        "z = np.abs(stats.zscore(descritivas[\"IMC_kg/m²\"]))\n",
        "df_no_outliers = descritivas[(z < 3)]\n",
        "print(df_no_outliers)"
      ],
      "metadata": {
        "colab": {
          "base_uri": "https://localhost:8080/"
        },
        "id": "yS88N-555dU_",
        "outputId": "c466fdfe-13c7-4baa-d609-cf5f7d05aeda"
      },
      "execution_count": 25,
      "outputs": [
        {
          "output_type": "stream",
          "name": "stdout",
          "text": [
            "        IMC_kg/m²  Glicose_mg/dl  Pressao_arterial_mmHg\n",
            "count  550.000000     550.000000             550.000000\n",
            "mean    32.267818     124.398182              68.743636\n",
            "std      7.867033      34.110444              20.093264\n",
            "min      0.000000       0.000000               0.000000\n",
            "25%     27.700000     100.250000              62.000000\n",
            "50%     32.350000     122.000000              72.000000\n",
            "75%     36.600000     146.000000              80.000000\n",
            "max     67.100000     199.000000             122.000000\n"
          ]
        }
      ]
    }
  ]
}